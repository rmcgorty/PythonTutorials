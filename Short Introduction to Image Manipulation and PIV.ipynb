{
 "cells": [
  {
   "cell_type": "markdown",
   "metadata": {},
   "source": [
    "## A very brief introduction to image processing and particle image velocimetry (PIV)"
   ]
  },
  {
   "cell_type": "markdown",
   "metadata": {},
   "source": [
    "First, we begin with importing a number of libraries. These include:\n",
    "* [numpy](https://numpy.org/)\n",
    "* [skimage](https://scikit-image.org/)\n",
    "* [matplotlib](https://matplotlib.org/)\n",
    "* [ipywidgets](https://ipywidgets.readthedocs.io/en/latest/)\n",
    "* [openpiv](http://www.openpiv.net/)\n",
    "\n",
    "<br>\n",
    "If you get an error message in regards to the openpiv or numdifftools then you will need to do the following:<br>\n",
    "open up an [Anaconda Prompt](https://docs.anaconda.com/anaconda/user-guide/getting-started/#cli-hello). Then just type: <br>\n",
    "> `pip install numdifftools`\n",
    "<br>\n",
    "\n",
    "<br>You'll also need to install the Python package [openpiv](https://github.com/OpenPIV/openpiv-python). To install, you'll again open up an Anaconda Prompt and type: <br>\n",
    "> `conda install -c conda-forge openpiv`"
   ]
  },
  {
   "cell_type": "code",
   "execution_count": 9,
   "metadata": {},
   "outputs": [
    {
     "ename": "ImportError",
     "evalue": "cannot import name simple_piv",
     "output_type": "error",
     "traceback": [
      "\u001b[1;31m---------------------------------------------------------------------------\u001b[0m",
      "\u001b[1;31mImportError\u001b[0m                               Traceback (most recent call last)",
      "\u001b[1;32m<ipython-input-9-a49b0dca1736>\u001b[0m in \u001b[0;36m<module>\u001b[1;34m()\u001b[0m\n\u001b[0;32m     21\u001b[0m \u001b[1;32mfrom\u001b[0m \u001b[0mopenpiv\u001b[0m \u001b[1;32mimport\u001b[0m \u001b[0mtools\u001b[0m\u001b[1;33m,\u001b[0m \u001b[0mscaling\u001b[0m\u001b[1;33m,\u001b[0m \u001b[0mpyprocess\u001b[0m\u001b[1;33m,\u001b[0m \u001b[0mvalidation\u001b[0m\u001b[1;33m,\u001b[0m \u001b[0mfilters\u001b[0m\u001b[1;33m\u001b[0m\u001b[0m\n\u001b[0;32m     22\u001b[0m \u001b[1;32mfrom\u001b[0m \u001b[0mopenpiv\u001b[0m \u001b[1;32mimport\u001b[0m \u001b[0mpiv\u001b[0m\u001b[1;33m\u001b[0m\u001b[0m\n\u001b[1;32m---> 23\u001b[1;33m \u001b[1;32mfrom\u001b[0m \u001b[0mopenpiv\u001b[0m\u001b[1;33m.\u001b[0m\u001b[0mpiv\u001b[0m \u001b[1;32mimport\u001b[0m \u001b[0msimple_piv\u001b[0m\u001b[1;33m\u001b[0m\u001b[0m\n\u001b[0m",
      "\u001b[1;31mImportError\u001b[0m: cannot import name simple_piv"
     ]
    }
   ],
   "source": [
    "from io import BytesIO\n",
    "import numpy as np\n",
    "import pandas as pd\n",
    "from ipywidgets import Layout, interact, fixed, interactive\n",
    "from IPython.display import Image\n",
    "import matplotlib.pylab as plt\n",
    "import matplotlib.pyplot as plt\n",
    "import sys\n",
    "from scipy import ndimage\n",
    "from scipy.ndimage import gaussian_filter1d as gf1d\n",
    "from skimage import measure\n",
    "%matplotlib notebook\n",
    "import matplotlib\n",
    "from matplotlib import pylab\n",
    "import skimage\n",
    "from skimage import filters, feature, io\n",
    "from matplotlib import cm\n",
    "from matplotlib.pyplot import figure\n",
    "from skimage.filters import roberts, sobel, sobel_h, sobel_v, scharr, \\\n",
    "    scharr_h, scharr_v, prewitt, prewitt_v, prewitt_h\n",
    "import numdifftools as nd\n",
    "from openpiv import tools, scaling, pyprocess, validation, filters\n",
    "from openpiv import piv"
   ]
  },
  {
   "cell_type": "markdown",
   "metadata": {},
   "source": [
    "The following is just a function to help us display images. Don't worry about going through the code within."
   ]
  },
  {
   "cell_type": "code",
   "execution_count": 2,
   "metadata": {},
   "outputs": [],
   "source": [
    "#This is just a function to help us go from an array to another type of\n",
    "#  data structure that can be more easily displayed\n",
    "\n",
    "def arr2img(arr):\n",
    "    \"\"\"Display a 2- or 3-d numpy array as an image.\"\"\"\n",
    "    if arr.ndim == 2:\n",
    "        format, cmap = 'png', matplotlib.cm.gray\n",
    "    elif arr.ndim == 3:\n",
    "        format, cmap = 'jpg', None\n",
    "    else:\n",
    "        raise ValueError(\"Only 2- or 3-d arrays can be displayed as images.\")\n",
    "    # Don't let matplotlib autoscale the color range so we can control overall luminosity\n",
    "    if arr.dtype == 'uint8':\n",
    "        vmax=255\n",
    "        vmin=0\n",
    "    elif arr.dtype == 'uint16':\n",
    "        vmin = arr.min()\n",
    "        vmax = arr.max()\n",
    "    else:\n",
    "        vmax=arr.max()\n",
    "        vmin=arr.min()\n",
    "    with BytesIO() as buffer:\n",
    "        matplotlib.image.imsave(buffer, arr, format=format, cmap=cmap, vmin=vmin, vmax=vmax)\n",
    "        out = buffer.getvalue()\n",
    "    return Image(out)"
   ]
  },
  {
   "cell_type": "markdown",
   "metadata": {},
   "source": [
    "We will start by analyzing the [image stack found here](https://drive.google.com/file/d/1AmaQB89vuirshH-MIT0jL_hSv6DMj0_g/view?usp=sharing). This is the same movie used in the Fiji/ImageJ tutorial.<br>\n",
    "If you haven't yet, download that tif file and save it somewhere to your computer. <br>\n",
    "In the block of code below, specify where to find the tif file (replace the current path saved as `data_directory`)."
   ]
  },
  {
   "cell_type": "code",
   "execution_count": 3,
   "metadata": {},
   "outputs": [],
   "source": [
    "data_directory = 'C:\\\\Users\\\\Ryan\\\\Downloads\\\\'\n",
    "filename = 'actin network contracting over 6 min.tif'"
   ]
  },
  {
   "cell_type": "code",
   "execution_count": 4,
   "metadata": {},
   "outputs": [
    {
     "name": "stdout",
     "output_type": "stream",
     "text": [
      "Shape of the image data file: (77,256,256)\n",
      "So each image is 256-by-256 pixels large and we have 77 frames in our movie.\n"
     ]
    },
    {
     "name": "stderr",
     "output_type": "stream",
     "text": [
      "C:\\ProgramData\\Anaconda2\\lib\\site-packages\\skimage\\external\\tifffile\\tifffile.py:2128: UserWarning: tags are not ordered by code\n",
      "  warnings.warn(\"tags are not ordered by code\")\n"
     ]
    }
   ],
   "source": [
    "#Read in the image file\n",
    "im=skimage.io.imread(data_directory+filename)\n",
    "print(\"Shape of the image data file: (%i,%i,%i)\" % im.shape)\n",
    "print(\"So each image is %i-by-%i pixels large and we have %i frames in our movie.\" % (im.shape[1], im.shape[2], im.shape[0]))"
   ]
  },
  {
   "cell_type": "markdown",
   "metadata": {},
   "source": [
    "If a `warning` message popped up when you ran the above block of code, don't worry. Only `error` messages mean that the code did not run. "
   ]
  },
  {
   "cell_type": "code",
   "execution_count": 27,
   "metadata": {},
   "outputs": [
    {
     "data": {
      "application/vnd.jupyter.widget-view+json": {
       "model_id": "cf9da585b0b94463820e0b364dcb6fd9",
       "version_major": 2,
       "version_minor": 0
      },
      "text/plain": [
       "aW50ZXJhY3RpdmUoY2hpbGRyZW49KEludFNsaWRlcih2YWx1ZT0zOCwgZGVzY3JpcHRpb249dSdpbV9udW1iZXInLCBtYXg9NzYpLCBGbG9hdFNsaWRlcih2YWx1ZT0xLjAsIGRlc2NyaXB0aW/igKY=\n"
      ]
     },
     "metadata": {},
     "output_type": "display_data"
    },
    {
     "data": {
      "text/plain": [
       "<function __main__.edit_image_using_filter>"
      ]
     },
     "metadata": {},
     "output_type": "display_data"
    }
   ],
   "source": [
    "def edit_image_using_filter(image_stack, im_number, sigma=1, gamma=1):\n",
    "    '''\n",
    "    This function takes an image stack and returns a filtered image. \n",
    "    We apply a Gaussian image filter. \n",
    "    Scaling of the image is also done with a gamma factor. By reducing gamma below \n",
    "    1, low intensity regions of the image stand out more.\n",
    "    '''\n",
    "    \n",
    "    new_image = ndimage.gaussian_filter(image_stack[im_number], sigma)\n",
    "    new_image = new_image**gamma\n",
    "    return arr2img(new_image)\n",
    "\n",
    "v=interact(edit_image_using_filter, image_stack=fixed(im), im_number=(0,im.shape[0]-1,1), sigma=(0,10,0.5), \n",
    "          gamma=(0.01,1,0.01))\n",
    "display(v)"
   ]
  },
  {
   "cell_type": "code",
   "execution_count": 8,
   "metadata": {},
   "outputs": [
    {
     "ename": "AttributeError",
     "evalue": "'module' object has no attribute 'simple_piv'",
     "output_type": "error",
     "traceback": [
      "\u001b[1;31m---------------------------------------------------------------------------\u001b[0m",
      "\u001b[1;31mAttributeError\u001b[0m                            Traceback (most recent call last)",
      "\u001b[1;32m<ipython-input-8-15fe812e67ae>\u001b[0m in \u001b[0;36m<module>\u001b[1;34m()\u001b[0m\n\u001b[0;32m      3\u001b[0m \u001b[0mstepsize\u001b[0m\u001b[1;33m=\u001b[0m\u001b[1;36m5\u001b[0m\u001b[1;33m\u001b[0m\u001b[0m\n\u001b[0;32m      4\u001b[0m \u001b[0mframe2\u001b[0m \u001b[1;33m=\u001b[0m \u001b[0mframe1\u001b[0m\u001b[1;33m+\u001b[0m\u001b[0mstepsize\u001b[0m\u001b[1;33m\u001b[0m\u001b[0m\n\u001b[1;32m----> 5\u001b[1;33m \u001b[0mx\u001b[0m\u001b[1;33m,\u001b[0m\u001b[0my\u001b[0m\u001b[1;33m,\u001b[0m\u001b[0mu\u001b[0m\u001b[1;33m,\u001b[0m\u001b[0mv\u001b[0m \u001b[1;33m=\u001b[0m \u001b[0mpiv\u001b[0m\u001b[1;33m.\u001b[0m\u001b[0msimple_piv\u001b[0m\u001b[1;33m(\u001b[0m\u001b[0mim\u001b[0m\u001b[1;33m[\u001b[0m\u001b[0mframe1\u001b[0m\u001b[1;33m]\u001b[0m\u001b[1;33m,\u001b[0m \u001b[0mim\u001b[0m\u001b[1;33m[\u001b[0m\u001b[0mframe2\u001b[0m\u001b[1;33m]\u001b[0m\u001b[1;33m)\u001b[0m\u001b[1;33m\u001b[0m\u001b[0m\n\u001b[0m",
      "\u001b[1;31mAttributeError\u001b[0m: 'module' object has no attribute 'simple_piv'"
     ]
    }
   ],
   "source": [
    "# Select frame1 and a step size\n",
    "frame1 = 1\n",
    "stepsize=5\n",
    "frame2 = frame1+stepsize\n",
    "x,y,u,v = piv.simple_piv(im[frame1], im[frame2])"
   ]
  },
  {
   "cell_type": "code",
   "execution_count": null,
   "metadata": {},
   "outputs": [],
   "source": [
    "piv.piv."
   ]
  },
  {
   "cell_type": "code",
   "execution_count": null,
   "metadata": {},
   "outputs": [],
   "source": []
  }
 ],
 "metadata": {
  "kernelspec": {
   "display_name": "Python 2",
   "language": "python",
   "name": "python2"
  },
  "language_info": {
   "codemirror_mode": {
    "name": "ipython",
    "version": 2
   },
   "file_extension": ".py",
   "mimetype": "text/x-python",
   "name": "python",
   "nbconvert_exporter": "python",
   "pygments_lexer": "ipython2",
   "version": "2.7.15"
  }
 },
 "nbformat": 4,
 "nbformat_minor": 2
}
