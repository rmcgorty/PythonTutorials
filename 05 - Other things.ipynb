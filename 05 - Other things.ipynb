{
 "cells": [
  {
   "cell_type": "code",
   "execution_count": 1,
   "id": "242a5901",
   "metadata": {},
   "outputs": [],
   "source": [
    "import numpy as np\n",
    "import glob"
   ]
  },
  {
   "cell_type": "markdown",
   "id": "420b74be",
   "metadata": {},
   "source": [
    "THIS IS A COMMENT"
   ]
  },
  {
   "cell_type": "markdown",
   "id": "a92eeb5a",
   "metadata": {},
   "source": [
    "### Finding files"
   ]
  },
  {
   "cell_type": "code",
   "execution_count": 5,
   "id": "3db0cdef",
   "metadata": {},
   "outputs": [
    {
     "name": "stdout",
     "output_type": "stream",
     "text": [
      "Files:  ['Y:\\\\Ryle\\\\Data\\\\2021-08-19\\\\01_25C.nd2', 'Y:\\\\Ryle\\\\Data\\\\2021-08-19\\\\01_26.8C.nd2', 'Y:\\\\Ryle\\\\Data\\\\2021-08-19\\\\01_26.9.nd2', 'Y:\\\\Ryle\\\\Data\\\\2021-08-19\\\\01_28.9C.nd2', 'Y:\\\\Ryle\\\\Data\\\\2021-08-19\\\\01_28.9C001.nd2', 'Y:\\\\Ryle\\\\Data\\\\2021-08-19\\\\01_30.9C.nd2', 'Y:\\\\Ryle\\\\Data\\\\2021-08-19\\\\01_30.9C001.nd2', 'Y:\\\\Ryle\\\\Data\\\\2021-08-19\\\\01_32.9C.nd2', 'Y:\\\\Ryle\\\\Data\\\\2021-08-19\\\\01_32.9C001.nd2', 'Y:\\\\Ryle\\\\Data\\\\2021-08-19\\\\01_34.9C.nd2', 'Y:\\\\Ryle\\\\Data\\\\2021-08-19\\\\01_34.9C001.nd2', 'Y:\\\\Ryle\\\\Data\\\\2021-08-19\\\\01_RoomTemp.nd2']\n"
     ]
    }
   ],
   "source": [
    "#here is where to find the data\n",
    "data_dir = \"Y:\\\\Ryle\\\\Data\\\\2021-08-19\\\\\"\n",
    "\n",
    "#use 'glob' to get a list of files\n",
    "nikon_imaging_files_in_this_dir = glob.glob(data_dir + \"*.nd2\")\n",
    "\n",
    "#let's see what we found\n",
    "print(\"Files: \", nikon_imaging_files_in_this_dir)"
   ]
  },
  {
   "cell_type": "code",
   "execution_count": null,
   "id": "423d496e",
   "metadata": {},
   "outputs": [],
   "source": []
  },
  {
   "cell_type": "markdown",
   "id": "798cece9",
   "metadata": {},
   "source": [
    "### Using yaml"
   ]
  },
  {
   "cell_type": "code",
   "execution_count": 14,
   "id": "f2da08ea",
   "metadata": {},
   "outputs": [],
   "source": [
    "#we need to import this\n",
    "import yaml\n",
    "\n",
    "#here's a string with all our metadata\n",
    "ddm_analysis_parameters_str = \"\"\"\n",
    "DataDirectory: 'Y:\\\\Ryle\\\\Data\\\\2021-08-19\\\\'\n",
    "FileName: 'images_nobin_40x_128x128_8bit.tif'\n",
    "Metadata:\n",
    "  pixel_size: 0.242 # size of pixel in um\n",
    "  frame_rate: 41.7 #frames per second\n",
    "Analysis_parameters:\n",
    "  number_lag_times: 40\n",
    "  last_lag_time: 600\n",
    "  binning: no \n",
    "Fitting_parameters:\n",
    "  model: 'DDM Matrix - Single Exponential' \n",
    "  Tau: [1.0, 0.001, 10]\n",
    "  StretchingExp: [1.0, 0.5, 1.1]\n",
    "  Amplitude: [1e2, 1, 1e6]\n",
    "  Background: [2.5e4, 0, 1e7]\n",
    "  Good_q_range: [5, 20]\n",
    "  Auto_update_good_q_range: True\n",
    "\"\"\"\n",
    "\n",
    "#we take that string and conver to a dictionary\n",
    "parameters_as_dictionary = yaml.safe_load(ddm_analysis_parameters_str)\n"
   ]
  },
  {
   "cell_type": "markdown",
   "id": "c54671be",
   "metadata": {},
   "source": [
    "What's a [dictionary](https://lmgtfy.app/?q=python+dictionary)? "
   ]
  },
  {
   "cell_type": "code",
   "execution_count": 15,
   "id": "aeb4ea34",
   "metadata": {},
   "outputs": [
    {
     "name": "stdout",
     "output_type": "stream",
     "text": [
      "DataDirectory\n",
      "FileName\n",
      "Metadata\n",
      "Analysis_parameters\n",
      "Fitting_parameters\n",
      "Under the 'FileName' key we have:  images_nobin_40x_128x128_8bit.tif\n"
     ]
    }
   ],
   "source": [
    "#a dictionary has a set of keys\n",
    "for a_key_in_this_dict in parameters_as_dictionary:\n",
    "    print(a_key_in_this_dict)\n",
    "    \n",
    "#one of those keys is 'FileName'\n",
    "#let's see what's stored in that key\n",
    "print(\"Under the 'FileName' key we have: \", parameters_as_dictionary['FileName'])"
   ]
  },
  {
   "cell_type": "code",
   "execution_count": 16,
   "id": "fdf1d176",
   "metadata": {},
   "outputs": [],
   "source": [
    "with open(\"output_file_where_I_will_dump_some_stuff.yml\", \"w\") as file:\n",
    "    yaml.dump(parameters_as_dictionary, file)"
   ]
  },
  {
   "cell_type": "code",
   "execution_count": 12,
   "id": "bf8e1b01",
   "metadata": {},
   "outputs": [],
   "source": [
    "for file_found_earlier in nikon_imaging_files_in_this_dir:\n",
    "    parameters_as_dictionary['FileName'] = file_found_earlier"
   ]
  },
  {
   "cell_type": "code",
   "execution_count": 13,
   "id": "487bc5cc",
   "metadata": {},
   "outputs": [
    {
     "data": {
      "text/plain": [
       "{'DataDirectory': 'Y:\\\\Ryle\\\\Data\\\\2021-08-19\\\\',\n",
       " 'FileName': 'Y:\\\\Ryle\\\\Data\\\\2021-08-19\\\\01_RoomTemp.nd2',\n",
       " 'Metadata': {'pixel_size': 0.242, 'frame_rate': 41.7},\n",
       " 'Analysis_parameters': {'number_lag_times': 40,\n",
       "  'last_lag_time': 600,\n",
       "  'binning': False},\n",
       " 'Fitting_parameters': {'model': 'DDM Matrix - Single Exponential',\n",
       "  'Tau': [1.0, 0.001, 10],\n",
       "  'StretchingExp': [1.0, 0.5, 1.1],\n",
       "  'Amplitude': ['1e2', 1, '1e6'],\n",
       "  'Background': ['2.5e4', 0, '1e7'],\n",
       "  'Good_q_range': [5, 20],\n",
       "  'Auto_update_good_q_range': True}}"
      ]
     },
     "execution_count": 13,
     "metadata": {},
     "output_type": "execute_result"
    }
   ],
   "source": [
    "parameters_as_dictionary"
   ]
  },
  {
   "cell_type": "code",
   "execution_count": null,
   "id": "7052fabe",
   "metadata": {},
   "outputs": [],
   "source": []
  },
  {
   "cell_type": "markdown",
   "id": "6eaf3ab0",
   "metadata": {},
   "source": [
    "### Working with xarray Datasets and Data arrays"
   ]
  },
  {
   "cell_type": "code",
   "execution_count": null,
   "id": "ff6900ff",
   "metadata": {},
   "outputs": [],
   "source": []
  }
 ],
 "metadata": {
  "kernelspec": {
   "display_name": "Python 3 (ipykernel)",
   "language": "python",
   "name": "python3"
  },
  "language_info": {
   "codemirror_mode": {
    "name": "ipython",
    "version": 3
   },
   "file_extension": ".py",
   "mimetype": "text/x-python",
   "name": "python",
   "nbconvert_exporter": "python",
   "pygments_lexer": "ipython3",
   "version": "3.9.7"
  }
 },
 "nbformat": 4,
 "nbformat_minor": 5
}
